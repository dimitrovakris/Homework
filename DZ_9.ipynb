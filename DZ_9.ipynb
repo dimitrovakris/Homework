{
 "cells": [
  {
   "cell_type": "markdown",
   "metadata": {},
   "source": [
    "Задание 1. Напишите функцию, которая принимает на вход строку и проверяет является ли она валидным транспортным номером. Если да, то функция должна возвращать отдельно номер и регион."
   ]
  },
  {
   "cell_type": "code",
   "execution_count": 1,
   "metadata": {},
   "outputs": [
    {
     "data": {
      "text/plain": [
       "('а111аа', '777')"
      ]
     },
     "execution_count": 1,
     "metadata": {},
     "output_type": "execute_result"
    }
   ],
   "source": [
    "import re\n",
    "num_of_car = 'а111аа777'\n",
    "\n",
    "def correct_num(number):\n",
    "    if re.findall(r'\\w{1}\\d{3}\\w{2}\\d{2,3}', number):\n",
    "        return number[0:6], number[6:]\n",
    "        \n",
    "correct_num(num_of_car)"
   ]
  },
  {
   "cell_type": "markdown",
   "metadata": {},
   "source": [
    "Задание 2. Постарайтесь написать (в крайнем случае найти) самый полный шаблон для проверки e-mail адресов через регулярное выражение, которая проверяет e-mail адрес на валидность. Можно руководствоваться следующими минимальными требованиями:\n",
    "• адрес должен содержать специальный символ “@”, который отделяет имя пользователя почтовой системы от доменного имени;\n",
    "• адрес не должен содержать следующие символы: “пробел”, “,”, “:”, “;”, “!”, “#”, “%”, “*”, “(”, “)”, “=”, “+”, “{”, “}”, \" \" \", \" ’ \", \" / \", \" \\ \" и “|”;\n",
    "• адрес должен состоять только из латинских символов;\n",
    "• после символа “@” должна быть как минимум одна “.”;\n",
    "• после последней точки должно быть не менее 2-х и не более 4-х символов, причем наличие цифр не допускается;\n",
    "• между последней точкой и символом “@” должно быть не менее 2-х символов\n",
    "• слева от “@” должно быть не менее четырех символов"
   ]
  },
  {
   "cell_type": "code",
   "execution_count": 4,
   "metadata": {},
   "outputs": [
    {
     "ename": "SyntaxError",
     "evalue": "invalid syntax (<ipython-input-4-e771ab75fcb4>, line 1)",
     "output_type": "error",
     "traceback": [
      "\u001b[1;36m  File \u001b[1;32m\"<ipython-input-4-e771ab75fcb4>\"\u001b[1;36m, line \u001b[1;32m1\u001b[0m\n\u001b[1;33m    http://trainingweb.ru/page/validation-verify-email-address-python\u001b[0m\n\u001b[1;37m          ^\u001b[0m\n\u001b[1;31mSyntaxError\u001b[0m\u001b[1;31m:\u001b[0m invalid syntax\n"
     ]
    }
   ],
   "source": [
    "http://trainingweb.ru/page/validation-verify-email-address-python\n"
   ]
  },
  {
   "cell_type": "code",
   "execution_count": 5,
   "metadata": {},
   "outputs": [
    {
     "name": "stdout",
     "output_type": "stream",
     "text": [
      "aSdf@ma.ru\n"
     ]
    }
   ],
   "source": [
    "#'[^\\s,:;!#%*()=+{}'\"/\\|]\\w\\d@\\w{}.\\w{2,4}''\n",
    "import re\n",
    "pattern = re.compile('[-a-zA-Z0-9_.]{4,}@([-a-z0-9]{2,}\\.)+[a-z]{2,4}$') #[-a-zA-Z0-9_.]-исключает условие \"адрес не должен содержать следующие символы: “пробел”, “,”, “:”, “;”, “!”, “#”, “%”, “*”, “(”, “)”, “=”, “+”, “{”, “}”, \" \" \", \" ’ \", \" / \", \" \\ \" и “|”\"\"\n",
    "mail = \"aSdf@ma.ru\"\n",
    "is_valid = pattern.match(mail)\n",
    "if is_valid:\n",
    "    print(is_valid.group())\n",
    "else:\n",
    "    print(\"No\")"
   ]
  },
  {
   "cell_type": "markdown",
   "metadata": {},
   "source": [
    "\n",
    "Задание 3. Напишите функцию, которая будет удалять все последовательные повторы слов из заданной строки при помощи регулярных выражений."
   ]
  },
  {
   "cell_type": "code",
   "execution_count": 6,
   "metadata": {},
   "outputs": [
    {
     "data": {
      "text/plain": [
       "'Напишите функцию, которая будет удалять все последовательные повторы слов из заданной строки при помощи регулярных выражений.'"
      ]
     },
     "execution_count": 6,
     "metadata": {},
     "output_type": "execute_result"
    }
   ],
   "source": [
    "s = \"Напишите функцию функцию, которая будет будет удалять все последовательные повторы повторы повторы повторы слов из заданной строки при помощи помощи регулярных выражений.\"\n",
    "\n",
    "def del_word(s):\n",
    "    return re.sub(r'\\b([\\w]+)(\\s+\\1)+\\b', r'\\1', s.strip(), flags=re.I)\n",
    "\n",
    "del_word(s)"
   ]
  },
  {
   "cell_type": "markdown",
   "metadata": {},
   "source": [
    "\n",
    "Задание 4. Напишите функцию, которая будет проверять номер сотового телефона на валидность, если он валиден, то переводить его в формат: +7(xxx)-xxx-xx-xx\n",
    "\n",
    "Постарайтесь предусмотреть как можно больше адекватных форматов изначального ввода номера. Примеры валидных форматов:\n",
    "\n",
    "• +7 955 555-55-55; • 9555555555; • 8(955)555-55-55; • +7 955 555 55 55; • 7(955) 555-55-55; • +7 955+555+55+55."
   ]
  },
  {
   "cell_type": "code",
   "execution_count": 7,
   "metadata": {},
   "outputs": [
    {
     "name": "stdout",
     "output_type": "stream",
     "text": [
      "+7(999)-798-94-57\n"
     ]
    }
   ],
   "source": [
    "'[+7]\\s\\d{3}\\s\\d{3}\\s\\d{2}\\s\\d{2}'\n",
    "'\\d{10}'\n",
    "'[8](\\d{3})\\d{3}-\\d{2}-\\d{2}'\n",
    "'[+7]\\s\\d{3}\\s\\d{3}\\s\\d{2}\\s\\d{2}'\n",
    "'[8](\\d{3})\\s\\d{3}-\\d{2}-\\d{2}'\n",
    "\n",
    "\n",
    "import re\n",
    "phone_num = '9997989457'\n",
    "#pattern = re.compile('\\+7\\s?[\\(]{0,1}9[0-9]{2}[\\)]{0,1}\\s?\\d{3}[-]{0,1}\\d{2}[-]{0,1}\\d{2}')\n",
    "\n",
    "def correct_num(phone):\n",
    "    pattern = re.compile('([\\+7]|\\s|8){,2}[\\(\\s]?9[0-9]{2}[\\)]?[|-|\\s|\\+]?\\d{3}[-|\\s|\\+]?\\d{2}[-|\\s|\\+]?\\d{2}$')\n",
    "    is_valid = pattern.match(phone)\n",
    "    if is_valid:\n",
    "        return re.sub(r'([\\+7]|\\s|8){,2}[\\(\\s]?(9[0-9]{2})[\\)]?[|-|\\s|\\+]?(\\d{3})[-|\\s|\\+]?(\\d{2})[-|\\s|\\+]?(\\d{2})', r'+7(\\2)-\\3-\\4-\\5', phone)\n",
    "    else:\n",
    "        return \"Phone is not valid\"\n",
    "        \n",
    "\n",
    "        \n",
    "print(correct_num(phone_num))"
   ]
  },
  {
   "cell_type": "code",
   "execution_count": null,
   "metadata": {},
   "outputs": [],
   "source": []
  }
 ],
 "metadata": {
  "kernelspec": {
   "display_name": "Python 3",
   "language": "python",
   "name": "python3"
  },
  "language_info": {
   "codemirror_mode": {
    "name": "ipython",
    "version": 3
   },
   "file_extension": ".py",
   "mimetype": "text/x-python",
   "name": "python",
   "nbconvert_exporter": "python",
   "pygments_lexer": "ipython3",
   "version": "3.7.6"
  }
 },
 "nbformat": 4,
 "nbformat_minor": 4
}
