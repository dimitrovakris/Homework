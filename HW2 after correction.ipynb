{
 "cells": [
  {
   "cell_type": "markdown",
   "metadata": {},
   "source": [
    "Задание 1"
   ]
  },
  {
   "cell_type": "code",
   "execution_count": 1,
   "metadata": {},
   "outputs": [
    {
     "data": {
      "text/plain": [
       "False"
      ]
     },
     "execution_count": 1,
     "metadata": {},
     "output_type": "execute_result"
    }
   ],
   "source": [
    "long_phrase = 'Насколько проще было бы писать программы, если бы не заказчики'\n",
    "short_phrase = '640Кб должно хватить для любых задач.Билл Гейтс(по легенде)'\n",
    "len('long_phrase') > len('short_phrase')\n"
   ]
  },
  {
   "cell_type": "markdown",
   "metadata": {},
   "source": [
    "Задание 2"
   ]
  },
  {
   "cell_type": "code",
   "execution_count": 2,
   "metadata": {},
   "outputs": [
    {
     "name": "stdout",
     "output_type": "stream",
     "text": [
      "Объем файла равен 23655768653824 Mb\n"
     ]
    }
   ],
   "source": [
    "a = 22559899 #объем файла в байтах\n",
    "b = a * (2**20)\n",
    "print('Объем файла равен', b, 'Mb')"
   ]
  },
  {
   "cell_type": "markdown",
   "metadata": {},
   "source": [
    "Задание 3"
   ]
  },
  {
   "cell_type": "code",
   "execution_count": 3,
   "metadata": {},
   "outputs": [
    {
     "name": "stdout",
     "output_type": "stream",
     "text": [
      "Введите номер месяца 3\n",
      "Введите дату: 22\n",
      "Март,Овен\n"
     ]
    }
   ],
   "source": [
    "user_input1 = int(input('Введите номер месяца '))\n",
    "user_input2 = int(input('Введите дату: '))\n",
    "if user_input1 == 12 and user_input2 > 21 and user_input2 < 32:\n",
    "    print ('Декабрь,Козерог')\n",
    "if user_input1 == 1 and user_input2 > 0 and user_input2 < 21:\n",
    "    print ('Январь,Козерог')   \n",
    "if user_input1 == 1 and user_input2 > 20 and user_input2 < 32:\n",
    "    print ('Январь,Водолей')\n",
    "if user_input1 == 2 and user_input2 > 0 and user_input2 < 21:\n",
    "    print ('Февраль,Водолей')    \n",
    "if user_input1 == 2 and user_input2 > 21 and user_input2 < 30:\n",
    "    print ('Февраль,Рыбы') \n",
    "if user_input1 == 3 and user_input2 > 0 and user_input2 < 21:\n",
    "    print ('Март,Рыбы')\n",
    "if user_input1 == 3 and user_input2 > 20 and user_input2 < 32:\n",
    "    print ('Март,Овен')\n",
    "if user_input1 == 4 and user_input2 > 0 and user_input2 < 21:\n",
    "    print ('Апрель,Овен')\n",
    "if user_input1 == 4 and user_input2 > 20 and user_input2 < 32:\n",
    "    print ('Апрель,Телец')\n",
    "if user_input1 == 5 and user_input2 > 0 and user_input2 < 21:\n",
    "    print ('Май,Телец')\n",
    "if user_input1 == 5 and user_input2 > 20 and user_input2 < 32:\n",
    "    print ('Май,Близнецы')\n",
    "if user_input1 == 6 and user_input2 > 0 and user_input2 < 22:\n",
    "    print ('Июнь,Близнецы')\n",
    "if user_input1 == 6 and user_input2 > 21 and user_input2 < 32:\n",
    "    print ('Июнь,Рак')\n",
    "if user_input1 == 7 and user_input2 > 0 and user_input2 < 23:\n",
    "    print ('Июль,Рак')\n",
    "if user_input1 == 7 and user_input2 > 22 and user_input2 < 32:\n",
    "    print ('Июль,Лев')\n",
    "if user_input1 == 8 and user_input2 > 0 and user_input2 < 24:\n",
    "    print ('Август,Лев')\n",
    "if user_input1 == 8 and user_input2 > 23 and user_input2 < 32:\n",
    "    print ('Август,Дева')\n",
    "if user_input1 == 9 and user_input2 > 0 and user_input2 < 24:\n",
    "    print ('Сентябрь,Дева')\n",
    "if user_input1 == 9 and user_input2 > 23 and user_input2 < 32:\n",
    "    print ('Сентябрь,Весы')\n",
    "if user_input1 == 9 and user_input2 > 0 and user_input2 < 24:\n",
    "    print ('Сентябрь,Дева')\n",
    "if user_input1 == 9 and user_input2 > 23 and user_input2 < 32:\n",
    "    print ('Сентябрь,Весы')\n",
    "if user_input1 == 10 and user_input2 > 0 and user_input2 < 24:\n",
    "    print ('Октябрь,Весы')\n",
    "if user_input1 == 10 and user_input2 > 23 and user_input2 < 32:\n",
    "    print ('Октябрь,Скорпион')\n",
    "if user_input1 == 11 and user_input2 > 0 and user_input2 < 24:\n",
    "    print ('Ноябрь,Весы')\n",
    "if user_input1 == 11 and user_input2 > 23 and user_input2 < 32:\n",
    "    print ('Ноябрь,Водолей')\n",
    "if user_input1 == 12 and user_input2 > 0 and user_input2 < 22:\n",
    "    print ('Декабрь,Водолей')"
   ]
  },
  {
   "cell_type": "markdown",
   "metadata": {},
   "source": [
    "Задание 4"
   ]
  },
  {
   "cell_type": "code",
   "execution_count": 4,
   "metadata": {},
   "outputs": [
    {
     "name": "stdout",
     "output_type": "stream",
     "text": [
      "Введите з/п в месяц:150000000\n",
      "Введите сколько процентов уходит на ипотеку в месяц:25\n",
      "Введите сколько процентов уходит на жизнь в месяц:32\n",
      "Введите количество премий за год:2\n",
      "Вывод: На ипотеку было потрачено: 450000000 было накоплено: 924000000 рублей\n"
     ]
    }
   ],
   "source": [
    "user_input1 = int(input('Введите з/п в месяц:'))\n",
    "user_input2 = int(input('Введите сколько процентов уходит на ипотеку в месяц:'))\n",
    "user_input3 = int(input('Введите сколько процентов уходит на жизнь в месяц:'))\n",
    "user_input4 = int(input('Введите количество премий за год:'))\n",
    "x = user_input1 // 100 * user_input2 *12\n",
    "y = (user_input1-(user_input1 //100 * user_input2) - (user_input1 // 100 *user_input3)) *12 + (user_input1 //100 * 50 *user_input4)\n",
    "print (\"Вывод: На ипотеку было потрачено:\", x , \"было накоплено:\",y, \"рублей\")"
   ]
  }
 ],
 "metadata": {
  "kernelspec": {
   "display_name": "Python 3",
   "language": "python",
   "name": "python3"
  },
  "language_info": {
   "codemirror_mode": {
    "name": "ipython",
    "version": 3
   },
   "file_extension": ".py",
   "mimetype": "text/x-python",
   "name": "python",
   "nbconvert_exporter": "python",
   "pygments_lexer": "ipython3",
   "version": "3.7.6"
  }
 },
 "nbformat": 4,
 "nbformat_minor": 4
}
