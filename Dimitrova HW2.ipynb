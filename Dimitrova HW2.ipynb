{
 "cells": [
  {
   "cell_type": "markdown",
   "metadata": {},
   "source": [
    "Task 1"
   ]
  },
  {
   "cell_type": "code",
   "execution_count": 1,
   "metadata": {},
   "outputs": [
    {
     "data": {
      "text/plain": [
       "True"
      ]
     },
     "execution_count": 1,
     "metadata": {},
     "output_type": "execute_result"
    }
   ],
   "source": [
    "long_phrase = 'Насколько проще было бы писать программы, если бы не заказчики'\n",
    "short_phrase = '640Кб должно хватить для любых задач. Билл Гейтс (по легенде)'\n",
    "long_phrase > short_phrase\n"
   ]
  },
  {
   "cell_type": "markdown",
   "metadata": {},
   "source": [
    "Task 2"
   ]
  },
  {
   "cell_type": "code",
   "execution_count": 1,
   "metadata": {},
   "outputs": [
    {
     "name": "stdout",
     "output_type": "stream",
     "text": [
      "Объем файла равен 213.68000000032768 Mb\n"
     ]
    }
   ],
   "source": [
    "a = 0.00020378112793\n",
    "b = a * (2**20)\n",
    "print ('Объем файла равен', b, 'Mb')"
   ]
  },
  {
   "cell_type": "markdown",
   "metadata": {},
   "source": [
    "Task 3 "
   ]
  },
  {
   "cell_type": "code",
   "execution_count": 5,
   "metadata": {},
   "outputs": [
    {
     "name": "stdout",
     "output_type": "stream",
     "text": [
      "Введите месяц\n",
      "3\n",
      "Март\n",
      "Введите число\n",
      "6\n",
      "Рыбы\n"
     ]
    }
   ],
   "source": [
    "print ('Введите месяц')\n",
    "user_input = int(input())\n",
    "if user_input == (3):\n",
    "    print('Март')  \n",
    "print ('Введите число')\n",
    "user_input = int(input())\n",
    "if user_input == (6):\n",
    "    print('Рыбы')\n",
    "else:\n",
    "    pass\n",
    "    print (\"Введите 1-12 значения\")"
   ]
  },
  {
   "cell_type": "markdown",
   "metadata": {},
   "source": [
    "Task 4"
   ]
  },
  {
   "cell_type": "code",
   "execution_count": 9,
   "metadata": {},
   "outputs": [
    {
     "name": "stdout",
     "output_type": "stream",
     "text": [
      "Введите з/п в месяц:500000\n",
      "Введите сколько процентов уходит на ипотеку в месяц:20\n",
      "Введите сколько процентов уходит на жизнь в месяц:30\n",
      "Введите количество премий за год:2\n",
      "Вывод: На ипотеку было потрачено: 1200000 было накоплено: 3500000 рублей\n"
     ]
    }
   ],
   "source": [
    "user_input1 = int(input('Введите з/п в месяц:'))\n",
    "user_input2 = int(input('Введите сколько процентов уходит на ипотеку в месяц:'))\n",
    "user_input3 = int(input('Введите сколько процентов уходит на жизнь в месяц:'))\n",
    "user_input4 = int(input('Введите количество премий за год:'))\n",
    "x = user_input1 // 100 * user_input2 *12\n",
    "y = (user_input1-(user_input1 //100 * user_input2) - (user_input1 // 100 *user_input3)) *12 + (user_input1 //100 * 50 *user_input4)\n",
    "print (\"Вывод: На ипотеку было потрачено:\", x , \"было накоплено:\",y, \"рублей\")\n"
   ]
  }
 ],
 "metadata": {
  "kernelspec": {
   "display_name": "Python 3",
   "language": "python",
   "name": "python3"
  },
  "language_info": {
   "codemirror_mode": {
    "name": "ipython",
    "version": 3
   },
   "file_extension": ".py",
   "mimetype": "text/x-python",
   "name": "python",
   "nbconvert_exporter": "python",
   "pygments_lexer": "ipython3",
   "version": "3.7.6"
  }
 },
 "nbformat": 4,
 "nbformat_minor": 4
}
