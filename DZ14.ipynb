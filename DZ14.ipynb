{
 "cells": [
  {
   "cell_type": "markdown",
   "metadata": {},
   "source": [
    "Задание 1\n",
    "\n",
    "Используйте файл с оценками фильмов ml-latest-small/ratings.csv. Посчитайте среднее время жизни пользователей, которые выставили более 100 оценок. Под временем жизни понимается разница между максимальным и минимальным значением столбца timestamp для данного значения userId."
   ]
  },
  {
   "cell_type": "code",
   "execution_count": null,
   "metadata": {},
   "outputs": [],
   "source": [
    "import pandas as pd\n",
    "\n",
    "ratings = pd.read_csv('ml-latest-small/ratings.csv')\n",
    "# print(ratings.head())\n",
    "ratings_count = ratings.groupby('userId').count().reset_index()\n",
    "ratings_count = ratings_count[['userId', 'rating']]\n",
    "# print(ratings_count.head())\n",
    "count_more_than_100 = ratings_count[ratings_count['rating'] > 100]\n",
    "# print(count_more_than_100.head())\n",
    "\n",
    "ratings_timestamp = ratings[['userId', 'timestamp']]\n",
    "rating_max = ratings_timestamp.groupby('userId').max().reset_index()\n",
    "rating_min = ratings_timestamp.groupby('userId').min().reset_index()\n",
    "rating_max.rename(columns={'timestamp': 'timestamp_max'}, inplace=True)\n",
    "rating_min.rename(columns={'timestamp': 'timestamp_min'}, inplace=True)\n",
    "# print(rating_max.head())\n",
    "# print(rating_min.head())\n",
    "avg_timestamp = count_more_than_100.merge(rating_max, how='inner').merge(rating_min, how='inner')\n",
    "# print(avg_timestamp.head())\n",
    "\n",
    "\n",
    "def average(row):\n",
    "    avg = (row['timestamp_max'] - row['timestamp_min'])\n",
    "    return avg\n",
    "\n",
    "\n",
    "avg_timestamp['avg'] = avg_timestamp.apply(average, axis=1)\n",
    "print(avg_timestamp.head())\n",
    "\n"
   ]
  },
  {
   "cell_type": "markdown",
   "metadata": {},
   "source": [
    "Задание 2\n",
    "\n",
    "Дана статистика услуг перевозок клиентов компании по типам (см. файл с кодом занятия). Необходимо сформировать две таблицы:\n",
    "таблицу с тремя типами выручки для каждого client_id без указания адреса клиента\n",
    "аналогичную таблицу по типам выручки с указанием адреса клиента\n",
    "Обратите внимание, что в процессе объединения таблиц данные не должны теряться."
   ]
  },
  {
   "cell_type": "code",
   "execution_count": null,
   "metadata": {},
   "outputs": [],
   "source": [
    "import pandas as pd\n",
    "\n",
    "rzd = pd.DataFrame(\n",
    "    {\n",
    "        'client_id': [111, 112, 113, 114, 115],\n",
    "        'rzd_revenue': [1093, 2810, 10283, 5774, 981]\n",
    "    }\n",
    ")\n",
    "\n",
    "auto = pd.DataFrame(\n",
    "    {\n",
    "        'client_id': [113, 114, 115, 116, 117],\n",
    "        'auto_revenue': [57483, 83, 912, 4834, 98]\n",
    "    }\n",
    ")\n",
    "\n",
    "air = pd.DataFrame(\n",
    "    {\n",
    "        'client_id': [115, 116, 117, 118],\n",
    "        'air_revenue': [81, 4, 13, 173]\n",
    "    }\n",
    ")\n",
    "\n",
    "client_base = pd.DataFrame(\n",
    "    {\n",
    "        'client_id': [111, 112, 113, 114, 115, 116, 117, 118],\n",
    "        'address': ['Комсомольская 4', 'Энтузиастов 8а', 'Левобережная 1а', 'Мира 14', 'ЗЖБИиДК 1',\n",
    "                    'Строителей 18', 'Панфиловская 33', 'Мастеркова 4']\n",
    "    }\n",
    ")\n",
    "\n",
    "table = rzd.merge(auto, how='outer', on='client_id')\n",
    "table = table.merge(air, how='outer', on='client_id')\n",
    "table.loc[table.rzd_revenue.isnull(), 'rzd_revenue'] = 0\n",
    "table.loc[table.auto_revenue.isnull(), 'auto_revenue'] = 0\n",
    "table.loc[table.air_revenue.isnull(), 'air_revenue'] = 0\n",
    "print(table)\n",
    "table_2 = table.merge(client_base, how='outer', on='client_id')\n",
    "print(table_2)\n",
    "\n"
   ]
  },
  {
   "cell_type": "markdown",
   "metadata": {},
   "source": [
    "Задание 3\n",
    "\n",
    "В задаче сквозной аналитики вам предоставили данные по местоположению пользователей. Т. е. для каждого user_id известна последовательность координат (широта/долгота), когда они требовались приложению для полноценной работы. Как бы вы добавили эти сведения в таблицу визитов и покупок? Для составления ответа можно использовать вопросы:\n",
    "У каждого пользователя известен набор координат. А для связывания с визитом или фактом покупки скорее всего потребуется одно-два числа. Как их получить?\n",
    "Наборы координат одного и того же пользователя могут быть значительно удалены друг от друга. Как это отразится на вопросе расчетах пункта 1?\n",
    "Какие дополнительные признаки можно получить из координат? Ведь это просто числа, которые сами по себе мало что дают."
   ]
  },
  {
   "cell_type": "code",
   "execution_count": null,
   "metadata": {},
   "outputs": [],
   "source": [
    "import pandas as pd\n",
    "\n",
    "#Для связывания координат с визитом или фактом покупки нужно ввести индификатор визита, так как в здании могут быть несколько входов\n",
    "coordinates = pd.DataFrame(\n",
    "    {\n",
    "        'user_id': [1, 2, 3, 1, 2],\n",
    "        'visit_id': [101, 201, 301, 102, 202],\n",
    "        'coordinate': ['59.939095, 30.315868', '59.939095, 30.315868', '59.939095, 30.315868', '59.939095, 30.315868', '59.939095, 30.315868']\n",
    "    }\n",
    ")\n",
    "print(coordinates)\n",
    "# Из координат можно получить частоту запросов из разных мест, что поможет сделать статистику покупок, предпочтений и т.д."
   ]
  }
 ],
 "metadata": {
  "kernelspec": {
   "display_name": "Python 3",
   "language": "python",
   "name": "python3"
  },
  "language_info": {
   "codemirror_mode": {
    "name": "ipython",
    "version": 3
   },
   "file_extension": ".py",
   "mimetype": "text/x-python",
   "name": "python",
   "nbconvert_exporter": "python",
   "pygments_lexer": "ipython3",
   "version": "3.7.6"
  },
  "pycharm": {
   "stem_cell": {
    "cell_type": "raw",
    "source": [],
    "metadata": {
     "collapsed": false
    }
   }
  }
 },
 "nbformat": 4,
 "nbformat_minor": 4
}