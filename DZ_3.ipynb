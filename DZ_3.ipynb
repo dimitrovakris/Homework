{
 "cells": [
  {
   "cell_type": "markdown",
   "metadata": {},
   "source": [
    "\n",
    "Задача 1. Дано слово из латинских букв. Напишите скрипт, который выводит на экран букву из середины слова (если число букв нечетное). Если букв четное число, то на экран выводятся две буквы из середины.\n",
    "\n",
    "Пример: для 'test' должно выводится 'es', для 'testing' - 't'"
   ]
  },
  {
   "cell_type": "code",
   "execution_count": 1,
   "metadata": {},
   "outputs": [
    {
     "name": "stdout",
     "output_type": "stream",
     "text": [
      "qr\n"
     ]
    }
   ],
   "source": [
    "word = 'qrqrqq'\n",
    "\n",
    "if len(word) % 2 != 0:\n",
    "    print(word[int(len(word)/2)])\n",
    "else:\n",
    "    print(word[int(len(word)//2)-1]+word[int(len(word)//2)])"
   ]
  },
  {
   "cell_type": "markdown",
   "metadata": {},
   "source": [
    "Задача 2. Мы делаем MVP dating-сервиса, и у нас есть список парней и девушек (их число может варьироваться):"
   ]
  },
  {
   "cell_type": "code",
   "execution_count": 4,
   "metadata": {},
   "outputs": [
    {
     "name": "stdout",
     "output_type": "stream",
     "text": [
      "Идеальные пары:\n",
      "Alex и Emma\n",
      "Arthur и Kate\n",
      "John и Kira\n",
      "Peter и Liza\n",
      "Richard и Trisha\n"
     ]
    }
   ],
   "source": [
    "boys = ['Peter', 'Alex', 'John', 'Arthur', 'Richard']\n",
    "girls = ['Kate', 'Liza', 'Kira', 'Emma', 'Trisha']\n",
    "boys = ['Peter', 'Alex', 'John', 'Arthur', 'Richard']\n",
    "girls = ['Kate', 'Liza', 'Kira', 'Emma', 'Trisha']\n",
    "a = sorted(boys)\n",
    "b = sorted(girls)\n",
    "c = zip(a, b)\n",
    "print('Идеальные пары:')\n",
    "\n",
    "\n",
    "if len(a) != len(b):\n",
    "    print('Кто-то может остаться без пары')\n",
    "else:    \n",
    "    for couple in c:\n",
    "        print(couple[0], 'и', couple[1])"
   ]
  },
  {
   "cell_type": "markdown",
   "metadata": {},
   "source": [
    "\n",
    "Задача 3. У нас есть список, содержащий информацию о среднедневной температуре в Фаренгейтах за недельный период по странам. Необходимо написать код, который рассчитает среднюю температуру за неделю в Цельсиях для каждой страны."
   ]
  },
  {
   "cell_type": "code",
   "execution_count": 5,
   "metadata": {},
   "outputs": [
    {
     "name": "stdout",
     "output_type": "stream",
     "text": [
      "Thailand 23.857142857142854\n",
      "Germany 13.714285714285708\n",
      "Russia 3.7142857142857166\n",
      "Poland 11.857142857142856\n"
     ]
    }
   ],
   "source": [
    "countries_temperature = [\n",
    " ['Thailand', [75.2, 77, 78.8, 73.4, 68, 75.2, 77]],\n",
    " ['Germany', [57.2, 55.4, 59, 59, 53.6, 55.4, 57.2]],\n",
    " ['Russia', [35.6, 37.4, 39.2, 41, 42.8, 39.2, 35.6]],\n",
    " ['Poland', [50, 50, 53.6, 57.2, 55.4, 55.4, 51.8]],\n",
    "]\n",
    "\n",
    "\n",
    "#for a in countries_temperature:\n",
    "#    for b in a[1:2]:\n",
    "#        print(a[0:1], sum(b)/len(b))\n",
    "\n",
    "for country, temp in countries_temperature:\n",
    "    print(country, (((sum(temp)/len(temp))-32)/1.8))"
   ]
  },
  {
   "cell_type": "markdown",
   "metadata": {},
   "source": [
    "Задача 4. Дан поток логов по количеству просмотренных страниц для каждого пользователя. Список отсортирован по ID пользователя. Вам необходимо написать алгоритм, который считает среднее значение просмотров на пользователя. Т. е. надо посчитать отношение суммы всех просмотров к количеству уникальных пользователей."
   ]
  },
  {
   "cell_type": "code",
   "execution_count": 6,
   "metadata": {},
   "outputs": [
    {
     "name": "stdout",
     "output_type": "stream",
     "text": [
      "23.25\n"
     ]
    }
   ],
   "source": [
    "stream = [\n",
    "    '2018-01-01,user1,3',\n",
    "    '2018-01-07,user1,4',\n",
    "    '2018-03-29,user1,1',\n",
    "    '2018-04-04,user1,13',\n",
    "    '2018-01-05,user2,7',\n",
    "    '2018-06-14,user3,4',\n",
    "    '2018-07-02,user3,10',\n",
    "    '2018-03-21,user4,19',\n",
    "    '2018-03-22,user4,4',\n",
    "    '2018-04-22,user4,8',\n",
    "    '2018-05-03,user4,9',\n",
    "    '2018-05-11,user4,11',\n",
    "]\n",
    "\n",
    "u_users = []\n",
    "x = 0\n",
    "\n",
    "\n",
    "for item in stream:        \n",
    "    new = item.split(',')\n",
    "    users = new[1] \n",
    "#    print(new)\n",
    "#    print(users)\n",
    "    if users not in u_users:        \n",
    "        u_users.append(users)\n",
    "        number_of_users = len(u_users)\n",
    "#print(number_of_users)\n",
    "    watch = new[2] \n",
    "    x += int(watch)\n",
    "    \n",
    "print(x/number_of_users)"
   ]
  },
  {
   "cell_type": "markdown",
   "metadata": {},
   "source": [
    "\n",
    "Задача 5. Дана статистика рекламных кампаний по дням. Напишите алгоритм, который по паре дата-кампания ищет значение численного столбца. Т. е. для даты '2018-01-01' и 'google' нужно получить число 25. Считайте, что все комбинации дата-кампания уникальны."
   ]
  },
  {
   "cell_type": "code",
   "execution_count": null,
   "metadata": {},
   "outputs": [],
   "source": [
    "stats = [\n",
    "    ['2018-01-01', 'google', 25],\n",
    "    ['2018-01-01', 'yandex', 65],\n",
    "    ['2018-01-01', 'market', 89],\n",
    "    ['2018-01-02', 'google', 574],\n",
    "    ['2018-01-02', 'yandex', 249],\n",
    "    ['2018-01-02', 'market', 994],\n",
    "    ['2018-01-03', 'google', 1843],\n",
    "    ['2018-01-03', 'yandex', 1327],\n",
    "    ['2018-01-03', 'market', 1764],\n",
    "]\n",
    "\n",
    "\n",
    "#for data in stats:\n",
    "#    a = data[0]\n",
    "#    b = data[1]\n",
    "#    c = data[2]\n",
    "#    if (str('2018-01-01') in a) & (str('google') in b):\n",
    "#        print(c)\n",
    "#    if (str('2018-01-01') in a) & (str('yandex') in b):    \n",
    "#        print(c)\n",
    "#    if (str('2018-01-01') in a) & (str('market') in b):    \n",
    "#        print(c)\n",
    "#    if (str('2018-01-02') in a) & (str('google') in b):    \n",
    "#        print(c)\n",
    "#    if (str('2018-01-02') in a) & (str('yandex') in b):    \n",
    "#        print(c)\n",
    "#    if (str('2018-01-02') in a) & (str('market') in b):    \n",
    "#        print(c)\n",
    "#    if (str('2018-01-03') in a) & (str('google') in b):    \n",
    "#        print(c)\n",
    "#    if (str('2018-01-03') in a) & (str('yandex') in b):    \n",
    "#        print(c)    \n",
    "#    if (str('2018-01-03') in a) & (str('market') in b): \n",
    "#        print(c)\n",
    "\n",
    "\n",
    "date = input('дата')\n",
    "comp = input('компания')\n",
    "\n",
    "for line in stats:\n",
    "    if (date in line) & (comp in line):\n",
    "        print(line[2])"
   ]
  },
  {
   "cell_type": "markdown",
   "metadata": {},
   "source": [
    "\n",
    "Задача 6. Дан список вида:"
   ]
  },
  {
   "cell_type": "code",
   "execution_count": null,
   "metadata": {},
   "outputs": [],
   "source": [
    "data = [\n",
    "    [13, 25, 23, 34],\n",
    "    [45, 32, 44, 47],\n",
    "    [12, 33, 23, 95],\n",
    "    [13, 53, 34, 35]\n",
    "]\n",
    "\n",
    "f = []\n",
    "\n",
    "for i, item in enumerate(data):\n",
    "    f.append(data[i][i])\n",
    "    \n",
    "print(sum(f))"
   ]
  }
 ],
 "metadata": {
  "kernelspec": {
   "display_name": "Python 3",
   "language": "python",
   "name": "python3"
  },
  "language_info": {
   "codemirror_mode": {
    "name": "ipython",
    "version": 3
   },
   "file_extension": ".py",
   "mimetype": "text/x-python",
   "name": "python",
   "nbconvert_exporter": "python",
   "pygments_lexer": "ipython3",
   "version": "3.7.6"
  }
 },
 "nbformat": 4,
 "nbformat_minor": 4
}
